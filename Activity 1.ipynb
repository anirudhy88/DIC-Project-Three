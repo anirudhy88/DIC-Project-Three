{
 "cells": [
  {
   "cell_type": "code",
   "execution_count": 17,
   "metadata": {
    "collapsed": false,
    "scrolled": true
   },
   "outputs": [
    {
     "data": {
      "text/html": [
       "<table>\n",
       "<thead><tr><th scope=col>Rank</th><th scope=col>Player</th><th scope=col>Team</th><th scope=col>Pos</th><th scope=col>X1st.NHL.Season</th><th scope=col>Last.NHL.Season</th><th scope=col>GP</th><th scope=col>G</th><th scope=col>A</th><th scope=col>P</th><th scope=col>X...</th><th scope=col>PIM</th><th scope=col>PP</th><th scope=col>SH</th><th scope=col>GW</th><th scope=col>GT</th><th scope=col>OT</th><th scope=col>Shots</th></tr></thead>\n",
       "<tbody>\n",
       "\t<tr><td>1            </td><td>Wayne Gretzky</td><td>             </td><td>C            </td><td>1979-1980    </td><td>1998-1999    </td><td>1487         </td><td>894          </td><td>1963         </td><td>2857         </td><td>518          </td><td> 577         </td><td>204          </td><td>73           </td><td>91           </td><td>12           </td><td> 1           </td><td>5089         </td></tr>\n",
       "\t<tr><td>2            </td><td>Mark Messier </td><td>             </td><td>C            </td><td>1979-1980    </td><td>2003-2004    </td><td>1756         </td><td>694          </td><td>1193         </td><td>1887         </td><td>210          </td><td>1910         </td><td>179          </td><td>63           </td><td>92           </td><td>15           </td><td> 7           </td><td>4219         </td></tr>\n",
       "\t<tr><td>3            </td><td>Gordie Howe  </td><td>             </td><td>R            </td><td>1946-1947    </td><td>1979-1980    </td><td>1767         </td><td>801          </td><td>1049         </td><td>1850         </td><td> 87          </td><td>1685         </td><td> 39          </td><td> 5           </td><td>18           </td><td>NA           </td><td>NA           </td><td>  NA         </td></tr>\n",
       "\t<tr><td>4            </td><td>Ron Francis  </td><td>             </td><td>C            </td><td>1981-1982    </td><td>2003-2004    </td><td>1731         </td><td>549          </td><td>1249         </td><td>1798         </td><td>-10          </td><td> 979         </td><td>188          </td><td>12           </td><td>79           </td><td>13           </td><td> 3           </td><td>3754         </td></tr>\n",
       "\t<tr><td>5            </td><td>Marcel Dionne</td><td>             </td><td>C            </td><td>1971-1972    </td><td>1988-1989    </td><td>1348         </td><td>731          </td><td>1040         </td><td>1771         </td><td> 28          </td><td> 600         </td><td>234          </td><td>19           </td><td>74           </td><td> 1           </td><td> 2           </td><td>5366         </td></tr>\n",
       "\t<tr><td>6            </td><td>Steve Yzerman</td><td>             </td><td>C            </td><td>1983-1984    </td><td>2005-2006    </td><td>1514         </td><td>692          </td><td>1063         </td><td>1755         </td><td>202          </td><td> 924         </td><td>202          </td><td>50           </td><td>94           </td><td>12           </td><td> 8           </td><td>4602         </td></tr>\n",
       "</tbody>\n",
       "</table>\n"
      ],
      "text/latex": [
       "\\begin{tabular}{r|llllllllllllllllll}\n",
       " Rank & Player & Team & Pos & X1st.NHL.Season & Last.NHL.Season & GP & G & A & P & X... & PIM & PP & SH & GW & GT & OT & Shots\\\\\n",
       "\\hline\n",
       "\t 1             & Wayne Gretzky &               & C             & 1979-1980     & 1998-1999     & 1487          & 894           & 1963          & 2857          & 518           &  577          & 204           & 73            & 91            & 12            &  1            & 5089         \\\\\n",
       "\t 2             & Mark Messier  &               & C             & 1979-1980     & 2003-2004     & 1756          & 694           & 1193          & 1887          & 210           & 1910          & 179           & 63            & 92            & 15            &  7            & 4219         \\\\\n",
       "\t 3             & Gordie Howe   &               & R             & 1946-1947     & 1979-1980     & 1767          & 801           & 1049          & 1850          &  87           & 1685          &  39           &  5            & 18            & NA            & NA            &   NA         \\\\\n",
       "\t 4             & Ron Francis   &               & C             & 1981-1982     & 2003-2004     & 1731          & 549           & 1249          & 1798          & -10           &  979          & 188           & 12            & 79            & 13            &  3            & 3754         \\\\\n",
       "\t 5             & Marcel Dionne &               & C             & 1971-1972     & 1988-1989     & 1348          & 731           & 1040          & 1771          &  28           &  600          & 234           & 19            & 74            &  1            &  2            & 5366         \\\\\n",
       "\t 6             & Steve Yzerman &               & C             & 1983-1984     & 2005-2006     & 1514          & 692           & 1063          & 1755          & 202           &  924          & 202           & 50            & 94            & 12            &  8            & 4602         \\\\\n",
       "\\end{tabular}\n"
      ],
      "text/markdown": [
       "\n",
       "Rank | Player | Team | Pos | X1st.NHL.Season | Last.NHL.Season | GP | G | A | P | X... | PIM | PP | SH | GW | GT | OT | Shots | \n",
       "|---|---|---|---|---|---|\n",
       "| 1             | Wayne Gretzky |               | C             | 1979-1980     | 1998-1999     | 1487          | 894           | 1963          | 2857          | 518           |  577          | 204           | 73            | 91            | 12            |  1            | 5089          | \n",
       "| 2             | Mark Messier  |               | C             | 1979-1980     | 2003-2004     | 1756          | 694           | 1193          | 1887          | 210           | 1910          | 179           | 63            | 92            | 15            |  7            | 4219          | \n",
       "| 3             | Gordie Howe   |               | R             | 1946-1947     | 1979-1980     | 1767          | 801           | 1049          | 1850          |  87           | 1685          |  39           |  5            | 18            | NA            | NA            |   NA          | \n",
       "| 4             | Ron Francis   |               | C             | 1981-1982     | 2003-2004     | 1731          | 549           | 1249          | 1798          | -10           |  979          | 188           | 12            | 79            | 13            |  3            | 3754          | \n",
       "| 5             | Marcel Dionne |               | C             | 1971-1972     | 1988-1989     | 1348          | 731           | 1040          | 1771          |  28           |  600          | 234           | 19            | 74            |  1            |  2            | 5366          | \n",
       "| 6             | Steve Yzerman |               | C             | 1983-1984     | 2005-2006     | 1514          | 692           | 1063          | 1755          | 202           |  924          | 202           | 50            | 94            | 12            |  8            | 4602          | \n",
       "\n",
       "\n"
      ],
      "text/plain": [
       "  Rank Player        Team Pos X1st.NHL.Season Last.NHL.Season GP   G   A   \n",
       "1 1    Wayne Gretzky      C   1979-1980       1998-1999       1487 894 1963\n",
       "2 2    Mark Messier       C   1979-1980       2003-2004       1756 694 1193\n",
       "3 3    Gordie Howe        R   1946-1947       1979-1980       1767 801 1049\n",
       "4 4    Ron Francis        C   1981-1982       2003-2004       1731 549 1249\n",
       "5 5    Marcel Dionne      C   1971-1972       1988-1989       1348 731 1040\n",
       "6 6    Steve Yzerman      C   1983-1984       2005-2006       1514 692 1063\n",
       "  P    X... PIM  PP  SH GW GT OT Shots\n",
       "1 2857 518   577 204 73 91 12  1 5089 \n",
       "2 1887 210  1910 179 63 92 15  7 4219 \n",
       "3 1850  87  1685  39  5 18 NA NA   NA \n",
       "4 1798 -10   979 188 12 79 13  3 3754 \n",
       "5 1771  28   600 234 19 74  1  2 5366 \n",
       "6 1755 202   924 202 50 94 12  8 4602 "
      ]
     },
     "metadata": {},
     "output_type": "display_data"
    },
    {
     "data": {
      "text/html": [
       "101"
      ],
      "text/latex": [
       "101"
      ],
      "text/markdown": [
       "101"
      ],
      "text/plain": [
       "[1] 101"
      ]
     },
     "metadata": {},
     "output_type": "display_data"
    },
    {
     "data": {
      "text/html": [
       "<table>\n",
       "<thead><tr><th scope=col>Rank</th><th scope=col>Player</th><th scope=col>Team</th><th scope=col>Pos</th><th scope=col>X1st.NHL.Season</th><th scope=col>Last.NHL.Season</th><th scope=col>GP</th><th scope=col>G</th><th scope=col>A</th><th scope=col>P</th><th scope=col>X...</th><th scope=col>PIM</th><th scope=col>PP</th><th scope=col>SH</th><th scope=col>GW</th><th scope=col>GT</th><th scope=col>OT</th><th scope=col>Shots</th></tr></thead>\n",
       "<tbody>\n",
       "\t<tr><td>1            </td><td>Wayne Gretzky</td><td>             </td><td>C            </td><td>1979-1980    </td><td>1998-1999    </td><td>1487         </td><td>894          </td><td>1963         </td><td>2857         </td><td>518          </td><td> 577         </td><td>204          </td><td>73           </td><td>91           </td><td>12           </td><td> 1           </td><td>5089         </td></tr>\n",
       "\t<tr><td>2            </td><td>Mark Messier </td><td>             </td><td>C            </td><td>1979-1980    </td><td>2003-2004    </td><td>1756         </td><td>694          </td><td>1193         </td><td>1887         </td><td>210          </td><td>1910         </td><td>179          </td><td>63           </td><td>92           </td><td>15           </td><td> 7           </td><td>4219         </td></tr>\n",
       "\t<tr><td>3            </td><td>Gordie Howe  </td><td>             </td><td>R            </td><td>1946-1947    </td><td>1979-1980    </td><td>1767         </td><td>801          </td><td>1049         </td><td>1850         </td><td> 87          </td><td>1685         </td><td> 39          </td><td> 5           </td><td>18           </td><td>NA           </td><td>NA           </td><td>  NA         </td></tr>\n",
       "\t<tr><td>4            </td><td>Ron Francis  </td><td>             </td><td>C            </td><td>1981-1982    </td><td>2003-2004    </td><td>1731         </td><td>549          </td><td>1249         </td><td>1798         </td><td>-10          </td><td> 979         </td><td>188          </td><td>12           </td><td>79           </td><td>13           </td><td> 3           </td><td>3754         </td></tr>\n",
       "\t<tr><td>5            </td><td>Marcel Dionne</td><td>             </td><td>C            </td><td>1971-1972    </td><td>1988-1989    </td><td>1348         </td><td>731          </td><td>1040         </td><td>1771         </td><td> 28          </td><td> 600         </td><td>234          </td><td>19           </td><td>74           </td><td> 1           </td><td> 2           </td><td>5366         </td></tr>\n",
       "\t<tr><td>6            </td><td>Steve Yzerman</td><td>             </td><td>C            </td><td>1983-1984    </td><td>2005-2006    </td><td>1514         </td><td>692          </td><td>1063         </td><td>1755         </td><td>202          </td><td> 924         </td><td>202          </td><td>50           </td><td>94           </td><td>12           </td><td> 8           </td><td>4602         </td></tr>\n",
       "</tbody>\n",
       "</table>\n"
      ],
      "text/latex": [
       "\\begin{tabular}{r|llllllllllllllllll}\n",
       " Rank & Player & Team & Pos & X1st.NHL.Season & Last.NHL.Season & GP & G & A & P & X... & PIM & PP & SH & GW & GT & OT & Shots\\\\\n",
       "\\hline\n",
       "\t 1             & Wayne Gretzky &               & C             & 1979-1980     & 1998-1999     & 1487          & 894           & 1963          & 2857          & 518           &  577          & 204           & 73            & 91            & 12            &  1            & 5089         \\\\\n",
       "\t 2             & Mark Messier  &               & C             & 1979-1980     & 2003-2004     & 1756          & 694           & 1193          & 1887          & 210           & 1910          & 179           & 63            & 92            & 15            &  7            & 4219         \\\\\n",
       "\t 3             & Gordie Howe   &               & R             & 1946-1947     & 1979-1980     & 1767          & 801           & 1049          & 1850          &  87           & 1685          &  39           &  5            & 18            & NA            & NA            &   NA         \\\\\n",
       "\t 4             & Ron Francis   &               & C             & 1981-1982     & 2003-2004     & 1731          & 549           & 1249          & 1798          & -10           &  979          & 188           & 12            & 79            & 13            &  3            & 3754         \\\\\n",
       "\t 5             & Marcel Dionne &               & C             & 1971-1972     & 1988-1989     & 1348          & 731           & 1040          & 1771          &  28           &  600          & 234           & 19            & 74            &  1            &  2            & 5366         \\\\\n",
       "\t 6             & Steve Yzerman &               & C             & 1983-1984     & 2005-2006     & 1514          & 692           & 1063          & 1755          & 202           &  924          & 202           & 50            & 94            & 12            &  8            & 4602         \\\\\n",
       "\\end{tabular}\n"
      ],
      "text/markdown": [
       "\n",
       "Rank | Player | Team | Pos | X1st.NHL.Season | Last.NHL.Season | GP | G | A | P | X... | PIM | PP | SH | GW | GT | OT | Shots | \n",
       "|---|---|---|---|---|---|\n",
       "| 1             | Wayne Gretzky |               | C             | 1979-1980     | 1998-1999     | 1487          | 894           | 1963          | 2857          | 518           |  577          | 204           | 73            | 91            | 12            |  1            | 5089          | \n",
       "| 2             | Mark Messier  |               | C             | 1979-1980     | 2003-2004     | 1756          | 694           | 1193          | 1887          | 210           | 1910          | 179           | 63            | 92            | 15            |  7            | 4219          | \n",
       "| 3             | Gordie Howe   |               | R             | 1946-1947     | 1979-1980     | 1767          | 801           | 1049          | 1850          |  87           | 1685          |  39           |  5            | 18            | NA            | NA            |   NA          | \n",
       "| 4             | Ron Francis   |               | C             | 1981-1982     | 2003-2004     | 1731          | 549           | 1249          | 1798          | -10           |  979          | 188           | 12            | 79            | 13            |  3            | 3754          | \n",
       "| 5             | Marcel Dionne |               | C             | 1971-1972     | 1988-1989     | 1348          | 731           | 1040          | 1771          |  28           |  600          | 234           | 19            | 74            |  1            |  2            | 5366          | \n",
       "| 6             | Steve Yzerman |               | C             | 1983-1984     | 2005-2006     | 1514          | 692           | 1063          | 1755          | 202           |  924          | 202           | 50            | 94            | 12            |  8            | 4602          | \n",
       "\n",
       "\n"
      ],
      "text/plain": [
       "  Rank Player        Team Pos X1st.NHL.Season Last.NHL.Season GP   G   A   \n",
       "1 1    Wayne Gretzky      C   1979-1980       1998-1999       1487 894 1963\n",
       "2 2    Mark Messier       C   1979-1980       2003-2004       1756 694 1193\n",
       "3 3    Gordie Howe        R   1946-1947       1979-1980       1767 801 1049\n",
       "4 4    Ron Francis        C   1981-1982       2003-2004       1731 549 1249\n",
       "5 5    Marcel Dionne      C   1971-1972       1988-1989       1348 731 1040\n",
       "6 6    Steve Yzerman      C   1983-1984       2005-2006       1514 692 1063\n",
       "  P    X... PIM  PP  SH GW GT OT Shots\n",
       "1 2857 518   577 204 73 91 12  1 5089 \n",
       "2 1887 210  1910 179 63 92 15  7 4219 \n",
       "3 1850  87  1685  39  5 18 NA NA   NA \n",
       "4 1798 -10   979 188 12 79 13  3 3754 \n",
       "5 1771  28   600 234 19 74  1  2 5366 \n",
       "6 1755 202   924 202 50 94 12  8 4602 "
      ]
     },
     "metadata": {},
     "output_type": "display_data"
    },
    {
     "data": {
      "text/html": [
       "100"
      ],
      "text/latex": [
       "100"
      ],
      "text/markdown": [
       "100"
      ],
      "text/plain": [
       "[1] 100"
      ]
     },
     "metadata": {},
     "output_type": "display_data"
    }
   ],
   "source": [
    "data2 <- read.csv(\"NHLTop100.csv\")\n",
    "head(data2)\n",
    "nrow(data2)\n",
    "data <- data2[-nrow(data2),]\n",
    "head(data)\n",
    "nrow(data)"
   ]
  },
  {
   "cell_type": "code",
   "execution_count": 37,
   "metadata": {
    "collapsed": false
   },
   "outputs": [
    {
     "data": {
      "text/plain": [
       "\n",
       "Call:\n",
       "lm(formula = data$A ~ data$G)\n",
       "\n",
       "Coefficients:\n",
       "(Intercept)       data$G  \n",
       "   494.5135       0.5202  \n"
      ]
     },
     "metadata": {},
     "output_type": "display_data"
    },
    {
     "data": {
      "text/plain": [
       "\n",
       "Call:\n",
       "lm(formula = data$A ~ data$G)\n",
       "\n",
       "Residuals:\n",
       "    Min      1Q  Median      3Q     Max \n",
       "-356.51 -158.59  -10.29  125.08 1003.42 \n",
       "\n",
       "Coefficients:\n",
       "            Estimate Std. Error t value Pr(>|t|)    \n",
       "(Intercept) 494.5135    74.6410   6.625 1.88e-09 ***\n",
       "data$G        0.5202     0.1508   3.449 0.000832 ***\n",
       "---\n",
       "Signif. codes:  0 '***' 0.001 '**' 0.01 '*' 0.05 '.' 0.1 ' ' 1\n",
       "\n",
       "Residual standard error: 207 on 98 degrees of freedom\n",
       "Multiple R-squared:  0.1082,\tAdjusted R-squared:  0.09913 \n",
       "F-statistic: 11.89 on 1 and 98 DF,  p-value: 0.0008317\n"
      ]
     },
     "metadata": {},
     "output_type": "display_data"
    },
    {
     "data": {
      "image/png": "[encoded data removed]",
      "text/plain": [
       "plot without title"
      ]
     },
     "metadata": {},
     "output_type": "display_data"
    }
   ],
   "source": [
    "model1 <- lm(data$A ~ data$G)\n",
    "model1\n",
    "coefs1 <- coef(model1)\n",
    "plot(data$G, data$A, pch = 20, col = \"red\", xlab = \"Goals\", ylab = \"Assists\")\n",
    "abline(coefs1[1], coefs1[2])\n",
    "summary(model1)"
   ]
  },
  {
   "cell_type": "code",
   "execution_count": 38,
   "metadata": {
    "collapsed": false
   },
   "outputs": [
    {
     "data": {
      "text/plain": [
       "\n",
       "Call:\n",
       "lm(formula = data$A ~ data$G + 0)\n",
       "\n",
       "Coefficients:\n",
       "data$G  \n",
       "  1.48  \n"
      ]
     },
     "metadata": {},
     "output_type": "display_data"
    },
    {
     "data": {
      "text/plain": [
       "\n",
       "Call:\n",
       "lm(formula = data$A ~ data$G + 0)\n",
       "\n",
       "Residuals:\n",
       "    Min      1Q  Median      3Q     Max \n",
       "-446.93 -137.40    1.88  159.73  639.58 \n",
       "\n",
       "Coefficients:\n",
       "       Estimate Std. Error t value Pr(>|t|)    \n",
       "data$G  1.48033    0.05009   29.55   <2e-16 ***\n",
       "---\n",
       "Signif. codes:  0 '***' 0.001 '**' 0.01 '*' 0.05 '.' 0.1 ' ' 1\n",
       "\n",
       "Residual standard error: 247.9 on 99 degrees of freedom\n",
       "Multiple R-squared:  0.8982,\tAdjusted R-squared:  0.8972 \n",
       "F-statistic: 873.4 on 1 and 99 DF,  p-value: < 2.2e-16\n"
      ]
     },
     "metadata": {},
     "output_type": "display_data"
    },
    {
     "data": {
      "image/png": "[encoded data removed]",
      "text/plain": [
       "plot without title"
      ]
     },
     "metadata": {},
     "output_type": "display_data"
    }
   ],
   "source": [
    "model2 <- lm(data$A ~ data$G + 0)\n",
    "model2\n",
    "coefs2 <- coef(model2)\n",
    "plot(data$G, data$A, pch = 20, col = \"red\", xlab = \"Goals\", ylab = \"Assists\")\n",
    "abline(0, coefs2[1])\n",
    "summary(model2)"
   ]
  },
  {
   "cell_type": "code",
   "execution_count": 42,
   "metadata": {
    "collapsed": false
   },
   "outputs": [
    {
     "data": {
      "text/plain": [
       "\n",
       "Call:\n",
       "lm(formula = I(data$A - 1963) ~ I(data$G - 894))\n",
       "\n",
       "Coefficients:\n",
       "    (Intercept)  I(data$G - 894)  \n",
       "     -1003.4220           0.5202  \n"
      ]
     },
     "metadata": {},
     "output_type": "display_data"
    },
    {
     "data": {
      "text/plain": [
       "\n",
       "Call:\n",
       "lm(formula = I(data$A - 1963) ~ I(data$G - 894))\n",
       "\n",
       "Residuals:\n",
       "    Min      1Q  Median      3Q     Max \n",
       "-356.51 -158.59  -10.29  125.08 1003.42 \n",
       "\n",
       "Coefficients:\n",
       "                  Estimate Std. Error t value Pr(>|t|)    \n",
       "(Intercept)     -1003.4220    66.4463 -15.101  < 2e-16 ***\n",
       "I(data$G - 894)     0.5202     0.1508   3.449 0.000832 ***\n",
       "---\n",
       "Signif. codes:  0 '***' 0.001 '**' 0.01 '*' 0.05 '.' 0.1 ' ' 1\n",
       "\n",
       "Residual standard error: 207 on 98 degrees of freedom\n",
       "Multiple R-squared:  0.1082,\tAdjusted R-squared:  0.09913 \n",
       "F-statistic: 11.89 on 1 and 98 DF,  p-value: 0.0008317\n"
      ]
     },
     "metadata": {},
     "output_type": "display_data"
    },
    {
     "data": {
      "image/png": "[encoded data removed]",
      "text/plain": [
       "plot without title"
      ]
     },
     "metadata": {},
     "output_type": "display_data"
    }
   ],
   "source": [
    "model3 <- lm(I(data$A-1963) ~ I(data$G-894))\n",
    "model3\n",
    "coefs3 <- coef(model3)\n",
    "plot(data$G, data$A, pch = 20, col = \"red\", xlab = \"Goals\", ylab = \"Assists\")\n",
    "abline(1497.95, coefs3[2])\n",
    "summary(model3)"
   ]
  },
  {
   "cell_type": "code",
   "execution_count": 43,
   "metadata": {
    "collapsed": false
   },
   "outputs": [
    {
     "data": {
      "text/plain": [
       "\n",
       "Call:\n",
       "lm(formula = I(data$A - 1963) ~ I(data$G - 894) + 0)\n",
       "\n",
       "Coefficients:\n",
       "I(data$G - 894)  \n",
       "          2.685  \n"
      ]
     },
     "metadata": {},
     "output_type": "display_data"
    },
    {
     "data": {
      "text/plain": [
       "\n",
       "Call:\n",
       "lm(formula = I(data$A - 1963) ~ I(data$G - 894) + 0)\n",
       "\n",
       "Residuals:\n",
       "   Min     1Q Median     3Q    Max \n",
       "-902.2 -333.4 -145.4  103.3  703.4 \n",
       "\n",
       "Coefficients:\n",
       "                Estimate Std. Error t value Pr(>|t|)    \n",
       "I(data$G - 894)   2.6847     0.0853   31.48   <2e-16 ***\n",
       "---\n",
       "Signif. codes:  0 '***' 0.001 '**' 0.01 '*' 0.05 '.' 0.1 ' ' 1\n",
       "\n",
       "Residual standard error: 375.7 on 99 degrees of freedom\n",
       "Multiple R-squared:  0.9091,\tAdjusted R-squared:  0.9082 \n",
       "F-statistic: 990.7 on 1 and 99 DF,  p-value: < 2.2e-16\n"
      ]
     },
     "metadata": {},
     "output_type": "display_data"
    },
    {
     "data": {
      "image/png": "[encoded data removed]",
      "text/plain": [
       "plot without title"
      ]
     },
     "metadata": {},
     "output_type": "display_data"
    }
   ],
   "source": [
    "model4 <- lm(I(data$A-1963) ~ I(data$G-894) + 0)\n",
    "model4\n",
    "coefs4 <- coef(model4)\n",
    "plot(data$G, data$A, pch = 20, col = \"red\", xlab = \"Goals\", ylab = \"Assists\")\n",
    "abline(0, coefs4[1])\n",
    "summary(model4)"
   ]
  },
  {
   "cell_type": "markdown",
   "metadata": {},
   "source": [
    "Multiple R-squared = 0.1082\n",
    "Adjusted R-squared = 0.09913\n",
    "p-value = 0.0008317"
   ]
  },
  {
   "cell_type": "code",
   "execution_count": 45,
   "metadata": {
    "collapsed": false
   },
   "outputs": [
    {
     "data": {
      "text/plain": [
       "\n",
       "Call:\n",
       "lm(formula = I(data2$A - 462) ~ I(data2$G - 285))\n",
       "\n",
       "Coefficients:\n",
       "     (Intercept)  I(data2$G - 285)  \n",
       "         175.636             0.538  \n"
      ]
     },
     "metadata": {},
     "output_type": "display_data"
    },
    {
     "data": {
      "text/plain": [
       "\n",
       "Call:\n",
       "lm(formula = I(data2$A - 462) ~ I(data2$G - 285))\n",
       "\n",
       "Residuals:\n",
       "    Min      1Q  Median      3Q     Max \n",
       "-355.97 -175.12   -8.92  126.23  997.75 \n",
       "\n",
       "Coefficients:\n",
       "                 Estimate Std. Error t value Pr(>|t|)    \n",
       "(Intercept)      175.6358    34.8548   5.039 2.11e-06 ***\n",
       "I(data2$G - 285)   0.5380     0.1492   3.605 0.000491 ***\n",
       "---\n",
       "Signif. codes:  0 '***' 0.001 '**' 0.01 '*' 0.05 '.' 0.1 ' ' 1\n",
       "\n",
       "Residual standard error: 206.8 on 99 degrees of freedom\n",
       "Multiple R-squared:  0.116,\tAdjusted R-squared:  0.1071 \n",
       "F-statistic:    13 on 1 and 99 DF,  p-value: 0.0004909\n"
      ]
     },
     "metadata": {},
     "output_type": "display_data"
    },
    {
     "data": {
      "image/png": "[encoded data removed]",
      "text/plain": [
       "plot without title"
      ]
     },
     "metadata": {},
     "output_type": "display_data"
    }
   ],
   "source": [
    "model5 <- lm(I(data2$A-462) ~ I(data2$G-285))\n",
    "model5\n",
    "coefs5 <- coef(model5)\n",
    "plot(data2$G, data2$A, pch = 20, col = \"red\", xlab = \"Goals\", ylab = \"Assists\")\n",
    "abline(308.67, coefs5[2])\n",
    "summary(model5)"
   ]
  },
  {
   "cell_type": "code",
   "execution_count": 47,
   "metadata": {
    "collapsed": false,
    "scrolled": true
   },
   "outputs": [
    {
     "data": {
      "text/plain": [
       "\n",
       "Call:\n",
       "lm(formula = I(data2$A - 462) ~ I(data2$G - 285) + 0)\n",
       "\n",
       "Coefficients:\n",
       "I(data2$G - 285)  \n",
       "           1.145  \n"
      ]
     },
     "metadata": {},
     "output_type": "display_data"
    },
    {
     "data": {
      "text/plain": [
       "\n",
       "Call:\n",
       "lm(formula = I(data2$A - 462) ~ I(data2$G - 285) + 0)\n",
       "\n",
       "Residuals:\n",
       "    Min      1Q  Median      3Q     Max \n",
       "-337.54 -112.83   40.72  167.42  803.74 \n",
       "\n",
       "Coefficients:\n",
       "                 Estimate Std. Error t value Pr(>|t|)    \n",
       "I(data2$G - 285)  1.14493    0.09825   11.65   <2e-16 ***\n",
       "---\n",
       "Signif. codes:  0 '***' 0.001 '**' 0.01 '*' 0.05 '.' 0.1 ' ' 1\n",
       "\n",
       "Residual standard error: 230.6 on 100 degrees of freedom\n",
       "Multiple R-squared:  0.5759,\tAdjusted R-squared:  0.5717 \n",
       "F-statistic: 135.8 on 1 and 100 DF,  p-value: < 2.2e-16\n"
      ]
     },
     "metadata": {},
     "output_type": "display_data"
    },
    {
     "data": {
      "image/png": "[encoded data removed]",
      "text/plain": [
       "plot without title"
      ]
     },
     "metadata": {},
     "output_type": "display_data"
    }
   ],
   "source": [
    "model6 <- lm(I(data2$A-462) ~ I(data2$G-285)+0)\n",
    "model6\n",
    "coefs6 <- coef(model4)\n",
    "plot(data2$G, data2$A, pch = 20, col = \"red\", xlab = \"Goals\", ylab = \"Assists\")\n",
    "abline(0, 1.145)\n",
    "summary(model6)"
   ]
  },
  {
   "cell_type": "markdown",
   "metadata": {},
   "source": [
    "Tabulating the R-squared and p-value"
   ]
  },
  {
   "cell_type": "markdown",
   "metadata": {},
   "source": [
    "Model 1 - Data without patrick and line without passing through Wayne.\n",
    "\n",
    "Multiple R-squared:  0.1082,\t\n",
    "Adjusted R-squared:  0.09913,\t\n",
    "p-value: 0.0008317\n"
   ]
  },
  {
   "cell_type": "markdown",
   "metadata": {},
   "source": [
    "Model 2 - Data without patrick and line without passing through Wayne but passing through origin.\n",
    "\n",
    "Multiple R-squared:  0.8982,\t\n",
    "Adjusted R-squared:  0.8972,\t\n",
    "p-value: < 2.2e-16"
   ]
  },
  {
   "cell_type": "markdown",
   "metadata": {},
   "source": [
    "Model 3 - Data without patrick and line passing through Wayne but not passing through origin\n",
    "\n",
    "Multiple R-squared:  0.1082,\t\n",
    "Adjusted R-squared:  0.09913,\t\n",
    "p-value: 0.0008317"
   ]
  },
  {
   "cell_type": "markdown",
   "metadata": {},
   "source": [
    "Model 4 - Data without patrick and line without passing through Wayne and origin\n",
    "\n",
    "Multiple R-squared:  0.9091,\t\n",
    "Adjusted R-squared:  0.9082,\t\n",
    "p-value: < 2.2e-16"
   ]
  },
  {
   "cell_type": "markdown",
   "metadata": {},
   "source": [
    "Model 5 - Data with patrick and line passing through patrick but not passing through origin\n",
    "\n",
    "Multiple R-squared:  0.116,\t\n",
    "Adjusted R-squared:  0.1071,\t\n",
    "p-value: 0.0004909"
   ]
  },
  {
   "cell_type": "markdown",
   "metadata": {},
   "source": [
    "Model 6 -  Data with patrick and line passing through patrick and origin\n",
    "\n",
    "Multiple R-squared:  0.5759,\t\n",
    "Adjusted R-squared:  0.5717,\t\n",
    "p-value: < 2.2e-16"
   ]
  },
  {
   "cell_type": "code",
   "execution_count": 58,
   "metadata": {
    "collapsed": false
   },
   "outputs": [
    {
     "data": {
      "text/html": [
       "<table>\n",
       "<thead><tr><th scope=col>Model.Name</th><th scope=col>R.squared.value</th><th scope=col>p.value</th></tr></thead>\n",
       "<tbody>\n",
       "\t<tr><td>Model1   </td><td>0.09913  </td><td>0.0008317</td></tr>\n",
       "\t<tr><td>Model2      </td><td>0.89720     </td><td>&lt; 2.2e-16</td></tr>\n",
       "\t<tr><td>Model3   </td><td>0.09913  </td><td>0.0008317</td></tr>\n",
       "\t<tr><td>Model4      </td><td>0.90820     </td><td>&lt; 2.2e-16</td></tr>\n",
       "\t<tr><td>Model5   </td><td>0.10710  </td><td>0.0004909</td></tr>\n",
       "\t<tr><td>Model6      </td><td>0.57170     </td><td>&lt; 2.2e-16</td></tr>\n",
       "</tbody>\n",
       "</table>\n"
      ],
      "text/latex": [
       "\\begin{tabular}{r|lll}\n",
       " Model.Name & R.squared.value & p.value\\\\\n",
       "\\hline\n",
       "\t Model1    & 0.09913   & 0.0008317\\\\\n",
       "\t Model2    & 0.89720   & < 2.2e-16\\\\\n",
       "\t Model3    & 0.09913   & 0.0008317\\\\\n",
       "\t Model4    & 0.90820   & < 2.2e-16\\\\\n",
       "\t Model5    & 0.10710   & 0.0004909\\\\\n",
       "\t Model6    & 0.57170   & < 2.2e-16\\\\\n",
       "\\end{tabular}\n"
      ],
      "text/markdown": [
       "\n",
       "Model.Name | R.squared.value | p.value | \n",
       "|---|---|---|---|---|---|\n",
       "| Model1    | 0.09913   | 0.0008317 | \n",
       "| Model2    | 0.89720   | < 2.2e-16 | \n",
       "| Model3    | 0.09913   | 0.0008317 | \n",
       "| Model4    | 0.90820   | < 2.2e-16 | \n",
       "| Model5    | 0.10710   | 0.0004909 | \n",
       "| Model6    | 0.57170   | < 2.2e-16 | \n",
       "\n",
       "\n"
      ],
      "text/plain": [
       "  Model.Name R.squared.value p.value  \n",
       "1 Model1     0.09913         0.0008317\n",
       "2 Model2     0.89720         < 2.2e-16\n",
       "3 Model3     0.09913         0.0008317\n",
       "4 Model4     0.90820         < 2.2e-16\n",
       "5 Model5     0.10710         0.0004909\n",
       "6 Model6     0.57170         < 2.2e-16"
      ]
     },
     "metadata": {},
     "output_type": "display_data"
    }
   ],
   "source": [
    "table <- data.frame(\"Model Name\" = c(\"Model1\",\"Model2\",\"Model3\",\"Model4\",\"Model5\",\"Model6\"),\n",
    "                    \"R-squared.value\" = c(0.09913, 0.8972, 0.09913, 0.9082, 0.1071, 0.5717),\n",
    "                    \"p-value\" = c(0.0008317, \"< 2.2e-16\", 0.0008317, \"< 2.2e-16\", 0.0004909, \"< 2.2e-16\"))\n",
    "table"
   ]
  },
  {
   "cell_type": "markdown",
   "metadata": {},
   "source": [
    "For the given kind of data, Linear Model does not seem to provide accurate results. Some kind of classification models can deal with the given data.\n",
    "But in the given models we can find that the model4 with highest R-squared value and lowest p-value can be considered as a good fit. Rest of the models in which R-squared is too low or the p-value is too high needs to be tuned."
   ]
  }
 ],
 "metadata": {
  "kernelspec": {
   "display_name": "R",
   "language": "R",
   "name": "ir"
  },
  "language_info": {
   "codemirror_mode": "r",
   "file_extension": ".r",
   "mimetype": "text/x-r-source",
   "name": "R",
   "pygments_lexer": "r",
   "version": "3.3.2"
  }
 },
 "nbformat": 4,
 "nbformat_minor": 2
}
